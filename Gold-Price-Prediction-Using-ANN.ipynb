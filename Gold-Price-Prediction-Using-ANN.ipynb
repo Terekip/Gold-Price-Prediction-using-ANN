{
 "cells": [
  {
   "cell_type": "code",
   "execution_count": 1,
   "id": "ba28a2b7",
   "metadata": {},
   "outputs": [],
   "source": [
    "import pandas as pd\n",
    "import numpy as np\n",
    "from sklearn.model_selection import train_test_split\n",
    "from sklearn.preprocessing import StandardScaler\n",
    "from sklearn.preprocessing import MinMaxScaler"
   ]
  },
  {
   "cell_type": "code",
   "execution_count": 2,
   "id": "20d3bfbd",
   "metadata": {},
   "outputs": [],
   "source": [
    "import tensorflow as tf\n",
    "from tensorflow import keras\n",
    "from tensorflow.keras import Sequential\n",
    "from tensorflow.keras.layers import Dense"
   ]
  },
  {
   "cell_type": "code",
   "execution_count": 5,
   "id": "9889614c",
   "metadata": {},
   "outputs": [],
   "source": [
    "df = pd.read_csv(\"gld_price_data.csv\")"
   ]
  },
  {
   "cell_type": "code",
   "execution_count": 6,
   "id": "a3001f55",
   "metadata": {},
   "outputs": [
    {
     "data": {
      "text/html": [
       "<div>\n",
       "<style scoped>\n",
       "    .dataframe tbody tr th:only-of-type {\n",
       "        vertical-align: middle;\n",
       "    }\n",
       "\n",
       "    .dataframe tbody tr th {\n",
       "        vertical-align: top;\n",
       "    }\n",
       "\n",
       "    .dataframe thead th {\n",
       "        text-align: right;\n",
       "    }\n",
       "</style>\n",
       "<table border=\"1\" class=\"dataframe\">\n",
       "  <thead>\n",
       "    <tr style=\"text-align: right;\">\n",
       "      <th></th>\n",
       "      <th>Date</th>\n",
       "      <th>SPX</th>\n",
       "      <th>GLD</th>\n",
       "      <th>USO</th>\n",
       "      <th>SLV</th>\n",
       "      <th>EUR/USD</th>\n",
       "    </tr>\n",
       "  </thead>\n",
       "  <tbody>\n",
       "    <tr>\n",
       "      <th>0</th>\n",
       "      <td>1/2/2008</td>\n",
       "      <td>1447.160034</td>\n",
       "      <td>84.860001</td>\n",
       "      <td>78.470001</td>\n",
       "      <td>15.180</td>\n",
       "      <td>1.471692</td>\n",
       "    </tr>\n",
       "    <tr>\n",
       "      <th>1</th>\n",
       "      <td>1/3/2008</td>\n",
       "      <td>1447.160034</td>\n",
       "      <td>85.570000</td>\n",
       "      <td>78.370003</td>\n",
       "      <td>15.285</td>\n",
       "      <td>1.474491</td>\n",
       "    </tr>\n",
       "    <tr>\n",
       "      <th>2</th>\n",
       "      <td>1/4/2008</td>\n",
       "      <td>1411.630005</td>\n",
       "      <td>85.129997</td>\n",
       "      <td>77.309998</td>\n",
       "      <td>15.167</td>\n",
       "      <td>1.475492</td>\n",
       "    </tr>\n",
       "    <tr>\n",
       "      <th>3</th>\n",
       "      <td>1/7/2008</td>\n",
       "      <td>1416.180054</td>\n",
       "      <td>84.769997</td>\n",
       "      <td>75.500000</td>\n",
       "      <td>15.053</td>\n",
       "      <td>1.468299</td>\n",
       "    </tr>\n",
       "    <tr>\n",
       "      <th>4</th>\n",
       "      <td>1/8/2008</td>\n",
       "      <td>1390.189941</td>\n",
       "      <td>86.779999</td>\n",
       "      <td>76.059998</td>\n",
       "      <td>15.590</td>\n",
       "      <td>1.557099</td>\n",
       "    </tr>\n",
       "  </tbody>\n",
       "</table>\n",
       "</div>"
      ],
      "text/plain": [
       "       Date          SPX        GLD        USO     SLV   EUR/USD\n",
       "0  1/2/2008  1447.160034  84.860001  78.470001  15.180  1.471692\n",
       "1  1/3/2008  1447.160034  85.570000  78.370003  15.285  1.474491\n",
       "2  1/4/2008  1411.630005  85.129997  77.309998  15.167  1.475492\n",
       "3  1/7/2008  1416.180054  84.769997  75.500000  15.053  1.468299\n",
       "4  1/8/2008  1390.189941  86.779999  76.059998  15.590  1.557099"
      ]
     },
     "execution_count": 6,
     "metadata": {},
     "output_type": "execute_result"
    }
   ],
   "source": [
    "df.head()"
   ]
  },
  {
   "cell_type": "code",
   "execution_count": 9,
   "id": "4c8da457",
   "metadata": {},
   "outputs": [],
   "source": [
    "x =df.drop(['GLD','Date'],axis=1)\n",
    "y =df['GLD']"
   ]
  },
  {
   "cell_type": "code",
   "execution_count": 10,
   "id": "143ef761",
   "metadata": {},
   "outputs": [
    {
     "data": {
      "text/html": [
       "<div>\n",
       "<style scoped>\n",
       "    .dataframe tbody tr th:only-of-type {\n",
       "        vertical-align: middle;\n",
       "    }\n",
       "\n",
       "    .dataframe tbody tr th {\n",
       "        vertical-align: top;\n",
       "    }\n",
       "\n",
       "    .dataframe thead th {\n",
       "        text-align: right;\n",
       "    }\n",
       "</style>\n",
       "<table border=\"1\" class=\"dataframe\">\n",
       "  <thead>\n",
       "    <tr style=\"text-align: right;\">\n",
       "      <th></th>\n",
       "      <th>SPX</th>\n",
       "      <th>USO</th>\n",
       "      <th>SLV</th>\n",
       "      <th>EUR/USD</th>\n",
       "    </tr>\n",
       "  </thead>\n",
       "  <tbody>\n",
       "    <tr>\n",
       "      <th>0</th>\n",
       "      <td>1447.160034</td>\n",
       "      <td>78.470001</td>\n",
       "      <td>15.1800</td>\n",
       "      <td>1.471692</td>\n",
       "    </tr>\n",
       "    <tr>\n",
       "      <th>1</th>\n",
       "      <td>1447.160034</td>\n",
       "      <td>78.370003</td>\n",
       "      <td>15.2850</td>\n",
       "      <td>1.474491</td>\n",
       "    </tr>\n",
       "    <tr>\n",
       "      <th>2</th>\n",
       "      <td>1411.630005</td>\n",
       "      <td>77.309998</td>\n",
       "      <td>15.1670</td>\n",
       "      <td>1.475492</td>\n",
       "    </tr>\n",
       "    <tr>\n",
       "      <th>3</th>\n",
       "      <td>1416.180054</td>\n",
       "      <td>75.500000</td>\n",
       "      <td>15.0530</td>\n",
       "      <td>1.468299</td>\n",
       "    </tr>\n",
       "    <tr>\n",
       "      <th>4</th>\n",
       "      <td>1390.189941</td>\n",
       "      <td>76.059998</td>\n",
       "      <td>15.5900</td>\n",
       "      <td>1.557099</td>\n",
       "    </tr>\n",
       "    <tr>\n",
       "      <th>...</th>\n",
       "      <td>...</td>\n",
       "      <td>...</td>\n",
       "      <td>...</td>\n",
       "      <td>...</td>\n",
       "    </tr>\n",
       "    <tr>\n",
       "      <th>2285</th>\n",
       "      <td>2671.919922</td>\n",
       "      <td>14.060000</td>\n",
       "      <td>15.5100</td>\n",
       "      <td>1.186789</td>\n",
       "    </tr>\n",
       "    <tr>\n",
       "      <th>2286</th>\n",
       "      <td>2697.790039</td>\n",
       "      <td>14.370000</td>\n",
       "      <td>15.5300</td>\n",
       "      <td>1.184722</td>\n",
       "    </tr>\n",
       "    <tr>\n",
       "      <th>2287</th>\n",
       "      <td>2723.070068</td>\n",
       "      <td>14.410000</td>\n",
       "      <td>15.7400</td>\n",
       "      <td>1.191753</td>\n",
       "    </tr>\n",
       "    <tr>\n",
       "      <th>2288</th>\n",
       "      <td>2730.129883</td>\n",
       "      <td>14.380000</td>\n",
       "      <td>15.5600</td>\n",
       "      <td>1.193118</td>\n",
       "    </tr>\n",
       "    <tr>\n",
       "      <th>2289</th>\n",
       "      <td>2725.780029</td>\n",
       "      <td>14.405800</td>\n",
       "      <td>15.4542</td>\n",
       "      <td>1.182033</td>\n",
       "    </tr>\n",
       "  </tbody>\n",
       "</table>\n",
       "<p>2290 rows × 4 columns</p>\n",
       "</div>"
      ],
      "text/plain": [
       "              SPX        USO      SLV   EUR/USD\n",
       "0     1447.160034  78.470001  15.1800  1.471692\n",
       "1     1447.160034  78.370003  15.2850  1.474491\n",
       "2     1411.630005  77.309998  15.1670  1.475492\n",
       "3     1416.180054  75.500000  15.0530  1.468299\n",
       "4     1390.189941  76.059998  15.5900  1.557099\n",
       "...           ...        ...      ...       ...\n",
       "2285  2671.919922  14.060000  15.5100  1.186789\n",
       "2286  2697.790039  14.370000  15.5300  1.184722\n",
       "2287  2723.070068  14.410000  15.7400  1.191753\n",
       "2288  2730.129883  14.380000  15.5600  1.193118\n",
       "2289  2725.780029  14.405800  15.4542  1.182033\n",
       "\n",
       "[2290 rows x 4 columns]"
      ]
     },
     "execution_count": 10,
     "metadata": {},
     "output_type": "execute_result"
    }
   ],
   "source": [
    "x"
   ]
  },
  {
   "cell_type": "code",
   "execution_count": 11,
   "id": "4666251e",
   "metadata": {},
   "outputs": [
    {
     "data": {
      "text/plain": [
       "0        84.860001\n",
       "1        85.570000\n",
       "2        85.129997\n",
       "3        84.769997\n",
       "4        86.779999\n",
       "           ...    \n",
       "2285    124.589996\n",
       "2286    124.330002\n",
       "2287    125.180000\n",
       "2288    124.489998\n",
       "2289    122.543800\n",
       "Name: GLD, Length: 2290, dtype: float64"
      ]
     },
     "execution_count": 11,
     "metadata": {},
     "output_type": "execute_result"
    }
   ],
   "source": [
    "y"
   ]
  },
  {
   "cell_type": "code",
   "execution_count": 12,
   "id": "fcafca7a",
   "metadata": {},
   "outputs": [],
   "source": [
    "x_train,x_test,y_train,y_test = train_test_split(x,y,test_size=0.2)"
   ]
  },
  {
   "cell_type": "code",
   "execution_count": 13,
   "id": "a7d616a1",
   "metadata": {},
   "outputs": [],
   "source": [
    "scaler = MinMaxScaler()"
   ]
  },
  {
   "cell_type": "code",
   "execution_count": 17,
   "id": "b20bafab",
   "metadata": {},
   "outputs": [],
   "source": [
    "x_train_scaled=scaler.fit_transform(x_train)\n",
    "x_test_scaled=scaler.transform(x_test)"
   ]
  },
  {
   "cell_type": "code",
   "execution_count": 18,
   "id": "f376747f",
   "metadata": {},
   "outputs": [],
   "source": [
    "model=Sequential()"
   ]
  },
  {
   "cell_type": "code",
   "execution_count": 19,
   "id": "bde96ff2",
   "metadata": {},
   "outputs": [],
   "source": [
    "model.add(Dense(10,activation='relu',input_dim=4))\n",
    "model.add(Dense(10,activation='relu'))\n",
    "model.add(Dense(1,activation='linear'))"
   ]
  },
  {
   "cell_type": "code",
   "execution_count": 20,
   "id": "0e51a636",
   "metadata": {},
   "outputs": [],
   "source": [
    "model.compile(loss='mean_squared_error',optimizer='Adam')"
   ]
  },
  {
   "cell_type": "code",
   "execution_count": 21,
   "id": "f17559b9",
   "metadata": {},
   "outputs": [
    {
     "name": "stdout",
     "output_type": "stream",
     "text": [
      "Epoch 1/50\n",
      "52/52 [==============================] - 5s 20ms/step - loss: 15605.1445 - val_loss: 16187.1309\n",
      "Epoch 2/50\n",
      "52/52 [==============================] - 0s 7ms/step - loss: 15465.2139 - val_loss: 15988.3652\n",
      "Epoch 3/50\n",
      "52/52 [==============================] - 0s 4ms/step - loss: 15179.7246 - val_loss: 15543.1943\n",
      "Epoch 4/50\n",
      "52/52 [==============================] - 0s 5ms/step - loss: 14534.7100 - val_loss: 14621.8203\n",
      "Epoch 5/50\n",
      "52/52 [==============================] - 0s 4ms/step - loss: 13396.0098 - val_loss: 13186.9580\n",
      "Epoch 6/50\n",
      "52/52 [==============================] - 0s 5ms/step - loss: 11768.3633 - val_loss: 11259.7334\n",
      "Epoch 7/50\n",
      "52/52 [==============================] - 0s 5ms/step - loss: 9715.1582 - val_loss: 8985.0254\n",
      "Epoch 8/50\n",
      "52/52 [==============================] - 0s 5ms/step - loss: 7430.3584 - val_loss: 6594.3647\n",
      "Epoch 9/50\n",
      "52/52 [==============================] - 0s 5ms/step - loss: 5182.9272 - val_loss: 4398.8315\n",
      "Epoch 10/50\n",
      "52/52 [==============================] - 0s 6ms/step - loss: 3268.5427 - val_loss: 2678.6987\n",
      "Epoch 11/50\n",
      "52/52 [==============================] - 0s 5ms/step - loss: 1896.2919 - val_loss: 1550.6876\n",
      "Epoch 12/50\n",
      "52/52 [==============================] - 0s 4ms/step - loss: 1085.5385 - val_loss: 955.2853\n",
      "Epoch 13/50\n",
      "52/52 [==============================] - 0s 4ms/step - loss: 703.3331 - val_loss: 702.9458\n",
      "Epoch 14/50\n",
      "52/52 [==============================] - 0s 5ms/step - loss: 555.7574 - val_loss: 608.2831\n",
      "Epoch 15/50\n",
      "52/52 [==============================] - 0s 5ms/step - loss: 503.9720 - val_loss: 569.5228\n",
      "Epoch 16/50\n",
      "52/52 [==============================] - 0s 5ms/step - loss: 482.0861 - val_loss: 548.3475\n",
      "Epoch 17/50\n",
      "52/52 [==============================] - 0s 5ms/step - loss: 468.2859 - val_loss: 533.3283\n",
      "Epoch 18/50\n",
      "52/52 [==============================] - 0s 7ms/step - loss: 456.1810 - val_loss: 518.7772\n",
      "Epoch 19/50\n",
      "52/52 [==============================] - 0s 5ms/step - loss: 444.2154 - val_loss: 505.0115\n",
      "Epoch 20/50\n",
      "52/52 [==============================] - 0s 6ms/step - loss: 432.6692 - val_loss: 491.6654\n",
      "Epoch 21/50\n",
      "52/52 [==============================] - 0s 9ms/step - loss: 421.2327 - val_loss: 478.5404\n",
      "Epoch 22/50\n",
      "52/52 [==============================] - 0s 8ms/step - loss: 409.9815 - val_loss: 465.6998\n",
      "Epoch 23/50\n",
      "52/52 [==============================] - 0s 8ms/step - loss: 399.0220 - val_loss: 453.5651\n",
      "Epoch 24/50\n",
      "52/52 [==============================] - 1s 13ms/step - loss: 388.2842 - val_loss: 440.3946\n",
      "Epoch 25/50\n",
      "52/52 [==============================] - 0s 9ms/step - loss: 377.7500 - val_loss: 428.8238\n",
      "Epoch 26/50\n",
      "52/52 [==============================] - 0s 8ms/step - loss: 367.8253 - val_loss: 416.4728\n",
      "Epoch 27/50\n",
      "52/52 [==============================] - 0s 10ms/step - loss: 357.5578 - val_loss: 405.3076\n",
      "Epoch 28/50\n",
      "52/52 [==============================] - 0s 8ms/step - loss: 347.6706 - val_loss: 393.8514\n",
      "Epoch 29/50\n",
      "52/52 [==============================] - 0s 7ms/step - loss: 338.2800 - val_loss: 382.5584\n",
      "Epoch 30/50\n",
      "52/52 [==============================] - 0s 6ms/step - loss: 328.9241 - val_loss: 372.3568\n",
      "Epoch 31/50\n",
      "52/52 [==============================] - 0s 7ms/step - loss: 319.9769 - val_loss: 361.6470\n",
      "Epoch 32/50\n",
      "52/52 [==============================] - 0s 8ms/step - loss: 311.2245 - val_loss: 351.5277\n",
      "Epoch 33/50\n",
      "52/52 [==============================] - 0s 7ms/step - loss: 302.6586 - val_loss: 341.8052\n",
      "Epoch 34/50\n",
      "52/52 [==============================] - 0s 7ms/step - loss: 294.2234 - val_loss: 331.9521\n",
      "Epoch 35/50\n",
      "52/52 [==============================] - 0s 7ms/step - loss: 286.0284 - val_loss: 322.5994\n",
      "Epoch 36/50\n",
      "52/52 [==============================] - 0s 10ms/step - loss: 278.1300 - val_loss: 313.2861\n",
      "Epoch 37/50\n",
      "52/52 [==============================] - 0s 7ms/step - loss: 270.4833 - val_loss: 304.1177\n",
      "Epoch 38/50\n",
      "52/52 [==============================] - 0s 6ms/step - loss: 262.7461 - val_loss: 295.5603\n",
      "Epoch 39/50\n",
      "52/52 [==============================] - 0s 5ms/step - loss: 255.5642 - val_loss: 287.0256\n",
      "Epoch 40/50\n",
      "52/52 [==============================] - 0s 6ms/step - loss: 248.2484 - val_loss: 278.5982\n",
      "Epoch 41/50\n",
      "52/52 [==============================] - 0s 7ms/step - loss: 241.0910 - val_loss: 270.0923\n",
      "Epoch 42/50\n",
      "52/52 [==============================] - 0s 8ms/step - loss: 234.4012 - val_loss: 262.2813\n",
      "Epoch 43/50\n",
      "52/52 [==============================] - 0s 8ms/step - loss: 227.5463 - val_loss: 254.2673\n",
      "Epoch 44/50\n",
      "52/52 [==============================] - 0s 9ms/step - loss: 220.9829 - val_loss: 247.0215\n",
      "Epoch 45/50\n",
      "52/52 [==============================] - 0s 8ms/step - loss: 214.7706 - val_loss: 239.6769\n",
      "Epoch 46/50\n",
      "52/52 [==============================] - 1s 11ms/step - loss: 208.4947 - val_loss: 231.9935\n",
      "Epoch 47/50\n",
      "52/52 [==============================] - 0s 9ms/step - loss: 202.2829 - val_loss: 225.1016\n",
      "Epoch 48/50\n",
      "52/52 [==============================] - 0s 6ms/step - loss: 196.4210 - val_loss: 218.3454\n",
      "Epoch 49/50\n",
      "52/52 [==============================] - 0s 5ms/step - loss: 190.9080 - val_loss: 211.6733\n",
      "Epoch 50/50\n",
      "52/52 [==============================] - 0s 5ms/step - loss: 185.1027 - val_loss: 204.9942\n"
     ]
    }
   ],
   "source": [
    "history = model.fit(x_train_scaled,y_train,epochs=50,validation_split=0.1)"
   ]
  },
  {
   "cell_type": "code",
   "execution_count": 23,
   "id": "9e60ad09",
   "metadata": {},
   "outputs": [
    {
     "name": "stdout",
     "output_type": "stream",
     "text": [
      "15/15 [==============================] - 0s 3ms/step\n"
     ]
    }
   ],
   "source": [
    "y_pred=model.predict(x_test_scaled)"
   ]
  },
  {
   "cell_type": "code",
   "execution_count": 24,
   "id": "d14af9b2",
   "metadata": {},
   "outputs": [],
   "source": [
    "from sklearn.metrics import r2_score"
   ]
  },
  {
   "cell_type": "code",
   "execution_count": 27,
   "id": "54787018",
   "metadata": {},
   "outputs": [
    {
     "data": {
      "text/plain": [
       "0.6487528242988968"
      ]
     },
     "execution_count": 27,
     "metadata": {},
     "output_type": "execute_result"
    }
   ],
   "source": [
    "r2_score(y_test,y_pred)"
   ]
  },
  {
   "cell_type": "code",
   "execution_count": null,
   "id": "7036c82a",
   "metadata": {},
   "outputs": [],
   "source": []
  }
 ],
 "metadata": {
  "kernelspec": {
   "display_name": "Python 3 (ipykernel)",
   "language": "python",
   "name": "python3"
  },
  "language_info": {
   "codemirror_mode": {
    "name": "ipython",
    "version": 3
   },
   "file_extension": ".py",
   "mimetype": "text/x-python",
   "name": "python",
   "nbconvert_exporter": "python",
   "pygments_lexer": "ipython3",
   "version": "3.9.12"
  }
 },
 "nbformat": 4,
 "nbformat_minor": 5
}
